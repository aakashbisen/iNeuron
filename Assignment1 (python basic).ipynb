{
 "cells": [
  {
   "cell_type": "raw",
   "id": "cf02d8b7",
   "metadata": {},
   "source": [
    "Question(1) In the below elements which of them are values or an expression? eg:- values can be integer or string and expressions will be mathematical operators.\n",
    "*      : expression\n",
    "'hello': value\n",
    "-87.8  : value\n",
    "-      : expression\n",
    "/      : expression  \n",
    "+\t   : expression\n",
    "6      : value"
   ]
  },
  {
   "cell_type": "raw",
   "id": "ab5051f2",
   "metadata": {},
   "source": [
    "Question(2) What is the difference between string and variable?\n",
    "Answer:\n",
    "1.Variable is a space reserved in a speicific part of the memory that stores information/data which can be called out in later stages and also can be manipulated, thats why it is named as 'variable'(means which can be varied)e.g. a = 10 and String is nothing but a combination or sequence of characters in quotes. e.g.\"fvf453r4f\" The string is 'immutable' entity which cannot be 'varied' like a 'variable'.\n",
    "\n",
    "2.String is an object and we can assign any string to any variable. e.g. s = 'jamesbond007', where s is a variable which stores the string 'jamesbond007'"
   ]
  },
  {
   "cell_type": "raw",
   "id": "9c9786d1",
   "metadata": {},
   "source": [
    "Question(3) Describe three different data types.\n",
    "Answer:\n",
    "There're many datatypes in python but main are as follows:\n",
    "1.integer: a whole number e.g. a=57\n",
    "2.float: a fractional number e.g. f=10.22\n",
    "3.string: combination/sequence of characters in quotes e.g. s='ineurontech100'\n",
    "4.list: collection of homogenous or hetrogenous datatypes in square brackets e.g. l=['sudh',56,True]\n",
    "5.tuples: collection of homogenous or hetrogenous datatypes in round brackets e.g. t=('sudh',56,True)\n",
    "6.set: collection of unique elements e.g. s={1,2,3,4,5}\n",
    "7.dictionary: collection of datatypes in pair of keys and values. e.g. d={'ineuron':100, 'ineurontech':50}"
   ]
  },
  {
   "cell_type": "raw",
   "id": "b63f14b1",
   "metadata": {},
   "source": [
    "Question(4) What is an expression made up of? What do all expressions do?\n",
    "Answer:\n",
    "Expressions in python is a nothing but a combination of variables, values, opeartors and function call-outs which ALWAYS calculates(to itself) and return a (new) value.\n",
    "e.g. a=1, b=2, c=a+b   here a,b,c are variables; 1 & 2 are values; '=' & '+' are operators which entirely will give the result as 1+2=3."
   ]
  },
  {
   "cell_type": "raw",
   "id": "e509a981",
   "metadata": {},
   "source": [
    "Question(5) This assignment statements, like spam = 10. What is the difference between an expression and a statement?\n",
    "Answer:\n",
    "Here, we have assigned a value 10 to a variable called 'spam'. Python will try to interpret this statement and will assign a value of 10 to variable 'spam' by reserving a space for this variable in its memory so that whenever we call out the variable 'spam', it will return us a value 10.\n",
    "Though there're many differences but the most important difference between statement and expression is that statement 'does' something(like in above example it simply returned a same value that we had asigned) but expression always returns a new value/result value(like in Question(4) example it gave us a new value 3 in the expression a=1, b=2, c=a+b.\n",
    "Hence we can come to the conclusion that every statement can be a expression but every expression cannot be a statement."
   ]
  },
  {
   "cell_type": "raw",
   "id": "acb3fc67",
   "metadata": {},
   "source": [
    "Question(6) After running the following code, what does the variable bacon contain?\n",
    "bacon = 22\n",
    "bacon + 1\n",
    "Answer:\n",
    "Here in bacon+1, we're just doing concatenation by adding 1 but the variable 'bacon' will contain 22 only."
   ]
  },
  {
   "cell_type": "raw",
   "id": "b9d50ce2",
   "metadata": {},
   "source": [
    "Question(7) What should the values of the following two terms be?\n",
    "'spam' + 'spamspam'\n",
    "'spam' * 3\n",
    "Answer:\n",
    "'spam' + 'spamspam' = 'spamspamspam'\n",
    "'spam' * 3          = 'spamspamspam'"
   ]
  },
  {
   "cell_type": "raw",
   "id": "d974e787",
   "metadata": {},
   "source": [
    "Question(8) Why is eggs a valid variable name while 100 is invalid?\n",
    "Answer:\n",
    "A variable name in python must start with a letter or the underscore characters only(cannot start with a number)"
   ]
  },
  {
   "cell_type": "raw",
   "id": "43138622",
   "metadata": {},
   "source": [
    "Question(9) What three functions can be used to get the integer, floating-point number, or string version of a value?\n",
    "Answer:\n",
    "int(value), float(value), str(value)\n",
    "(Note: Though you can typecast any datatype to a string but cannot typecasting anything into an integer)"
   ]
  },
  {
   "cell_type": "raw",
   "id": "3682bb35",
   "metadata": {},
   "source": [
    "Question(10) Why does this expression cause an error? How can you fix it?\n",
    "'I have eaten ' + 99 + ' burritos.'\n",
    "Answer:\n",
    "Concatenation can only be done with same datatypes. Hence, you'll have to convert an integer into a string as follows:\n",
    "'I have eaten ' + str(99) + ' burritos.'"
   ]
  }
 ],
 "metadata": {
  "kernelspec": {
   "display_name": "Python 3 (ipykernel)",
   "language": "python",
   "name": "python3"
  },
  "language_info": {
   "codemirror_mode": {
    "name": "ipython",
    "version": 3
   },
   "file_extension": ".py",
   "mimetype": "text/x-python",
   "name": "python",
   "nbconvert_exporter": "python",
   "pygments_lexer": "ipython3",
   "version": "3.9.7"
  }
 },
 "nbformat": 4,
 "nbformat_minor": 5
}
