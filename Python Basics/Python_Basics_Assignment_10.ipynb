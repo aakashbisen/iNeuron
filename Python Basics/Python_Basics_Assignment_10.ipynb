{
 "cells": [
  {
   "cell_type": "markdown",
   "id": "f32bc661",
   "metadata": {},
   "source": [
    "1. How do you distinguish between shutil.copy() and shutil.copytree()?"
   ]
  },
  {
   "cell_type": "raw",
   "id": "5e40e5b5",
   "metadata": {},
   "source": [
    "The shutil.copy() function will copy a single file, while shutil.copytree() will copy an entire folder, along with all its contents."
   ]
  },
  {
   "cell_type": "markdown",
   "id": "1d977232",
   "metadata": {},
   "source": [
    "2. What function is used to rename files??"
   ]
  },
  {
   "cell_type": "raw",
   "id": "ba9d4954",
   "metadata": {},
   "source": [
    "os.rename(source, destination)"
   ]
  },
  {
   "cell_type": "markdown",
   "id": "56c60855",
   "metadata": {},
   "source": [
    "3. What is the difference between the delete functions in the send2trash and shutil modules?"
   ]
  },
  {
   "cell_type": "raw",
   "id": "0097c536",
   "metadata": {},
   "source": [
    "The send2trash functions will move a file or folder to the recycle bin, while shutil functions will permanently delete files and folders"
   ]
  },
  {
   "cell_type": "markdown",
   "id": "af0aa346",
   "metadata": {},
   "source": [
    "4.ZipFile objects have a close() method just like File objects’ close() method. What ZipFile method is equivalent to File objects’ open() method?"
   ]
  },
  {
   "cell_type": "raw",
   "id": "3051917e",
   "metadata": {},
   "source": [
    "zipfile.ZipFile(). the first argument is the filename, and the second argument is the mode to open the ZIP file in (read, write, or append)."
   ]
  },
  {
   "cell_type": "markdown",
   "id": "7d42a969",
   "metadata": {},
   "source": [
    "5. Create a programme that searches a folder tree for files with a certain file extension (such as .pdf or .jpg). Copy these files from whatever location they are in to a new folder."
   ]
  },
  {
   "cell_type": "code",
   "execution_count": null,
   "id": "cc968d0d",
   "metadata": {},
   "outputs": [],
   "source": [
    "import os,shutil\n",
    "def copy_by_extension(folder, extensions, destfolder):\n",
    "    folder = os.path.abspath(folder)      #creating absolute paths for both arguments\n",
    "    destfolder = os.path.abspath(destfolder)\n",
    "    for foldername, subfolders, filenames in os.walk(folder):\n",
    "        for filename in filenames:          \n",
    "            name,extension = os.path.splitext(filename)     #spliting the filename into its name and extension\n",
    "            if extension in extensions:\n",
    "                source_path = foldername + os.path.sep + filename    #creating a source path for copying\n",
    "                shutil.copy(source_path , destfolder)"
   ]
  }
 ],
 "metadata": {
  "kernelspec": {
   "display_name": "Python 3 (ipykernel)",
   "language": "python",
   "name": "python3"
  },
  "language_info": {
   "codemirror_mode": {
    "name": "ipython",
    "version": 3
   },
   "file_extension": ".py",
   "mimetype": "text/x-python",
   "name": "python",
   "nbconvert_exporter": "python",
   "pygments_lexer": "ipython3",
   "version": "3.9.7"
  }
 },
 "nbformat": 4,
 "nbformat_minor": 5
}
