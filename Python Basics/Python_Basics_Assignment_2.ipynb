{
 "cells": [
  {
   "cell_type": "raw",
   "id": "6c6911b6",
   "metadata": {},
   "source": [
    "Question(1) What are the two values of the Boolean data type? How do you write them?\n",
    "Answer:\n",
    "Two values of the Boolean data type are True and False. First letter of both values should be always start with capital letters and rest letters in small. "
   ]
  },
  {
   "cell_type": "raw",
   "id": "e35dc78b",
   "metadata": {},
   "source": [
    "Question(2) What are the three different types of Boolean operators?\n",
    "Answer:\n",
    "Three logical boolean operators are 'and', 'or' and 'not' which either returns True and False."
   ]
  },
  {
   "cell_type": "raw",
   "id": "df08ad36",
   "metadata": {},
   "source": [
    "Question(3) Make a list of each Boolean operator's truth tables (i.e. every possible combination of Boolean values for the operator and what it evaluate )\n",
    "Answer:\n",
    "for AND:\n",
    "True  and  True  =  True\n",
    "True  and  False =  False\n",
    "False and  True  =  False\n",
    "False and  False =  False\n",
    "for OR:\n",
    "True  or   True  =  True\n",
    "True  or   False =  True\n",
    "False or   True  =  True\n",
    "False or   False =  False\n",
    "for NOT:\n",
    "      not        =  True only if False"
   ]
  },
  {
   "cell_type": "raw",
   "id": "3a98de7c",
   "metadata": {},
   "source": [
    "Question(4) What are the values of the following expressions?\n",
    "Answer:\n",
    "(5 > 4) and (3 == 5)                = False\n",
    "not (5 > 4)                         = False\n",
    "(5 > 4) or (3 == 5)                 = True\n",
    "not ((5 > 4) or (3 == 5))           = False\n",
    "(True and True) and (True == False) = False\n",
    "(not False) or (not True)           = True"
   ]
  },
  {
   "cell_type": "raw",
   "id": "af3c48e1",
   "metadata": {},
   "source": [
    "Question(5): What are the six comparison operators?\n",
    "Answer:\n",
    "<  : less than\n",
    "<= : less than or equal to\n",
    ">  : greater than\n",
    ">= : greater than or equal to\n",
    "== : equal to\n",
    "!= : not equal to"
   ]
  },
  {
   "cell_type": "raw",
   "id": "642a5b53",
   "metadata": {},
   "source": [
    "Question(6) How do you tell the difference between the equal to and assignment operators?Describe a condition and when you would use one.\n",
    "Answer:\n",
    "Assignment operator('='): Its used when you are assigning some value to a variable e.g. a = 10 (assigning value 10 to a variable 'a')\n",
    "Equal to operator('==') : Its used purely for comparison purpose e.g.\n",
    "if 3 == 5:\n",
    "    print('equal to')\n",
    "else:\n",
    "    print('not equal to')\n",
    "    \n",
    "Output: 'not equal to'"
   ]
  },
  {
   "cell_type": "raw",
   "id": "c5f97843",
   "metadata": {},
   "source": [
    "Question(7) Identify the three blocks in this code:\n",
    "Answer:\n",
    "spam = 0\n",
    "if spam == 10:\n",
    "    print('eggs')        -------> block1\n",
    "    if spam > 5:\n",
    "        print('bacon')   -------> block2\n",
    "    else:             \n",
    "        print('ham')     -------> block3\n",
    "    print('spam')        (block1 continuation)\n",
    "print('spam')            (end of block by de-indenting a line of code to the same indent level as original argument)"
   ]
  },
  {
   "cell_type": "code",
   "execution_count": 4,
   "id": "bee684b7",
   "metadata": {},
   "outputs": [
    {
     "name": "stdout",
     "output_type": "stream",
     "text": [
      "enter your value here2\n",
      "Howdy\n"
     ]
    }
   ],
   "source": [
    "#Question(8) Write code that prints Hello if 1 is stored in spam, prints Howdy if 2 is stored in spam, and prints Greetings! if anything else is stored in spam.\n",
    "spam = int(input('enter your value here'))\n",
    "if spam == 1:\n",
    "    print('Hello')\n",
    "elif spam == 2:\n",
    "    print('Howdy')\n",
    "else:\n",
    "    print('Greetings!')"
   ]
  },
  {
   "cell_type": "raw",
   "id": "7f79bed6",
   "metadata": {},
   "source": [
    "Question(9) If your programme is stuck in an endless loop, what keys you’ll press?\n",
    "Answer:\n",
    "(Ctrl + C) to kill python process or you can also Interrupt the code from 'kernel' option and then try to reconnect again after debugging the problem which was causing infinite loop."
   ]
  },
  {
   "cell_type": "raw",
   "id": "3aac37c3",
   "metadata": {},
   "source": [
    "Question(10) How can you tell the difference between break and continue?\n",
    "Answer:\n",
    "'break' breaks/terminates the current loop if given break condition comes True while 'continue' statement skips the current iteration and give its control to the main body."
   ]
  },
  {
   "cell_type": "raw",
   "id": "5c962150",
   "metadata": {},
   "source": [
    "Question(11) In a for loop, what is the difference between range(10), range(0, 10), and range(0, 10, 1)?\n",
    "Answer:\n",
    "All 3 are same. In all 3, range function is creating a dataset from 0 to 10 with a jump/step-size of 1."
   ]
  },
  {
   "cell_type": "code",
   "execution_count": 5,
   "id": "ce980d43",
   "metadata": {},
   "outputs": [
    {
     "name": "stdout",
     "output_type": "stream",
     "text": [
      "1\n",
      "2\n",
      "3\n",
      "4\n",
      "5\n",
      "6\n",
      "7\n",
      "8\n",
      "9\n",
      "10\n",
      "1\n",
      "2\n",
      "3\n",
      "4\n",
      "5\n",
      "6\n",
      "7\n",
      "8\n",
      "9\n",
      "10\n"
     ]
    }
   ],
   "source": [
    "#Question(12) Write a short program that prints the numbers 1 to 10 using a for loop. Then write an equivalent program that prints the numbers 1 to 10 using a while loop.\n",
    "#Using For loop:\n",
    "for i in range(1,11):\n",
    "    print(i)\n",
    "\n",
    "#Using While Loop:\n",
    "a = 1\n",
    "while a < 11:\n",
    "    print(a)\n",
    "    a = a+1"
   ]
  },
  {
   "cell_type": "raw",
   "id": "b484a3b9",
   "metadata": {},
   "source": [
    "Question(13) If you had a function named bacon() inside a module named spam, how would you call it after importing spam?\n",
    "Answer:\n",
    "spam.bacon()"
   ]
  }
 ],
 "metadata": {
  "kernelspec": {
   "display_name": "Python 3 (ipykernel)",
   "language": "python",
   "name": "python3"
  },
  "language_info": {
   "codemirror_mode": {
    "name": "ipython",
    "version": 3
   },
   "file_extension": ".py",
   "mimetype": "text/x-python",
   "name": "python",
   "nbconvert_exporter": "python",
   "pygments_lexer": "ipython3",
   "version": "3.9.7"
  }
 },
 "nbformat": 4,
 "nbformat_minor": 5
}
