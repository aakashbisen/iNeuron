{
 "cells": [
  {
   "cell_type": "raw",
   "id": "37609993",
   "metadata": {},
   "source": [
    "Question(1) Why are functions advantageous to have in your programs?\n",
    "Answer:\n",
    "The main advantage of creating functions is code's 're-usability' if you want to use same operation multiple times which also helps in modular coding to reduce complexity, makes it short and structured."
   ]
  },
  {
   "cell_type": "raw",
   "id": "f0fb1f7c",
   "metadata": {},
   "source": [
    "Question(2) When does the code in a function run: when it's specified or when it's called?\n",
    "Answer:\n",
    "when its called."
   ]
  },
  {
   "cell_type": "raw",
   "id": "21fbb156",
   "metadata": {},
   "source": [
    "Question(3) What statement creates a function?\n",
    "Answer:\n",
    "'def' keyword"
   ]
  },
  {
   "cell_type": "raw",
   "id": "3f9039d5",
   "metadata": {},
   "source": [
    "Question(4) What is the difference between a function and a function call?\n",
    "Answer:\n",
    "A function is simply a block of code and function call is when you actually executes that function by calling it by function() or pass some arguments in it.(arguments are not mandatory though)."
   ]
  },
  {
   "cell_type": "raw",
   "id": "fd7d7fa1",
   "metadata": {},
   "source": [
    "Question(5) How many global scopes are there in a Python program? How many local scopes?\n",
    "Answer:\n",
    "There is only one global scope per python program and local scope comes into picture when function is called. Python uses LEGB method to lookup for variable names: local(L), Enclosed/nonlocal(E), Global(G) and built-in(B)."
   ]
  },
  {
   "cell_type": "raw",
   "id": "8a9cf062",
   "metadata": {},
   "source": [
    "Question(6) What happens to variables in a local scope when the function call returns?\n",
    "Answer:\n",
    "local variables are only exists as long as the function is executing(lifetime of variables is when memory is allocated to em'). Once function returns the variables are destroyed and memory is de-allocated."
   ]
  },
  {
   "cell_type": "raw",
   "id": "474d7854",
   "metadata": {},
   "source": [
    "Question(7) What is the concept of a return value? Is it possible to have a return value in an expression?\n",
    "Answer:\n",
    "The return keyword is to exit a function and return a value but you can use any python object as return value because everything in python is a object. Yes its possible to have a return value in an expression. A value-returning function should include a return statement and if 'return' is omitted, the return value of that expression is undefined(None-type)."
   ]
  },
  {
   "cell_type": "raw",
   "id": "926c58bf",
   "metadata": {},
   "source": [
    "Question(8) If a function does not have a return statement, what is the return value of a call to that function?\n",
    "Answer:\n",
    "If a function doesn't specify a return value, it returns None-type."
   ]
  },
  {
   "cell_type": "raw",
   "id": "2b2b124d",
   "metadata": {},
   "source": [
    "Question(9) How do you make a function variable refer to the global variable?\n",
    "Answer:\n",
    "'global' keyword"
   ]
  },
  {
   "cell_type": "raw",
   "id": "5cadb847",
   "metadata": {},
   "source": [
    "Question(10) What is the data type of None?\n",
    "Answer:\n",
    "None is a data type of its own (NoneType) and only None can be None."
   ]
  },
  {
   "cell_type": "raw",
   "id": "2c75786e",
   "metadata": {},
   "source": [
    "Question(11) What does the sentence import areallyourpetsnamederic do?\n",
    "Answer:\n",
    "That import statement imports a module named areallyourpetsnamederic(This module doesnt exist though)"
   ]
  },
  {
   "cell_type": "raw",
   "id": "cc580dcb",
   "metadata": {},
   "source": [
    "Question(12) If you had a bacon() feature in a spam module, what would you call it after importing spam?\n",
    "Answer:\n",
    "import spam\n",
    "a=spam.bacon()\n",
    "OR\n",
    "from spam import bacon\n",
    "a=bacon()"
   ]
  },
  {
   "cell_type": "raw",
   "id": "be19a8c0",
   "metadata": {},
   "source": [
    "Question(13) What can you do to save a programme from crashing if it encounters an error?\n",
    "Answer:\n",
    "Use Try and except method if you are not sure of your code."
   ]
  },
  {
   "cell_type": "raw",
   "id": "e72a77f4",
   "metadata": {},
   "source": [
    "Question(14) What is the purpose of the try clause? What is the purpose of the except clause?\n",
    "Answer:\n",
    "'Try' block first checks if the code can cause error, if it does then its directly thrown into 'except' block where its been handled."
   ]
  }
 ],
 "metadata": {
  "kernelspec": {
   "display_name": "Python 3 (ipykernel)",
   "language": "python",
   "name": "python3"
  },
  "language_info": {
   "codemirror_mode": {
    "name": "ipython",
    "version": 3
   },
   "file_extension": ".py",
   "mimetype": "text/x-python",
   "name": "python",
   "nbconvert_exporter": "python",
   "pygments_lexer": "ipython3",
   "version": "3.9.7"
  }
 },
 "nbformat": 4,
 "nbformat_minor": 5
}
