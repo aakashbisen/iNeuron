{
 "cells": [
  {
   "cell_type": "markdown",
   "id": "32e943c4",
   "metadata": {},
   "source": [
    "Question(1) What exactly is []?"
   ]
  },
  {
   "cell_type": "raw",
   "id": "a921a73f",
   "metadata": {},
   "source": [
    "In python, this is simply an empty list but this operator is also used for slicing operations."
   ]
  },
  {
   "cell_type": "markdown",
   "id": "f44ff955",
   "metadata": {},
   "source": [
    "Question(2) In a list of values stored in a variable called spam, how would you assign the value 'hello' as the third value? (Assume [2, 4, 6, 8, 10] are in spam.)\n",
    "Let's pretend the spam includes the list ['a', 'b', 'c', 'd'] for the next three queries."
   ]
  },
  {
   "cell_type": "code",
   "execution_count": 4,
   "id": "8aeaef4c",
   "metadata": {},
   "outputs": [
    {
     "data": {
      "text/plain": [
       "[2, 4, 6, 'hello', 8, 10]"
      ]
     },
     "execution_count": 4,
     "metadata": {},
     "output_type": "execute_result"
    }
   ],
   "source": [
    "spam = [2, 4, 6, 8, 10]\n",
    "spam.insert(3, 'hello')\n",
    "spam"
   ]
  },
  {
   "cell_type": "markdown",
   "id": "a3b40617",
   "metadata": {},
   "source": [
    "Question(3) What is the value of spam[int(int('3' * 2) / 11)]?"
   ]
  },
  {
   "cell_type": "code",
   "execution_count": 6,
   "id": "3ba2df60",
   "metadata": {},
   "outputs": [
    {
     "data": {
      "text/plain": [
       "'hello'"
      ]
     },
     "execution_count": 6,
     "metadata": {},
     "output_type": "execute_result"
    }
   ],
   "source": [
    "spam = [2, 4, 6, 'hello', 8, 10, ['a', 'b', 'c', 'd']]\n",
    "spam[int(int('3' * 2) / 11)]"
   ]
  },
  {
   "cell_type": "markdown",
   "id": "f5d6b790",
   "metadata": {},
   "source": [
    "Question(4) What is the value of spam[-1]?"
   ]
  },
  {
   "cell_type": "code",
   "execution_count": 7,
   "id": "56c9ce22",
   "metadata": {},
   "outputs": [
    {
     "data": {
      "text/plain": [
       "['a', 'b', 'c', 'd']"
      ]
     },
     "execution_count": 7,
     "metadata": {},
     "output_type": "execute_result"
    }
   ],
   "source": [
    "spam[-1]"
   ]
  },
  {
   "cell_type": "markdown",
   "id": "dec9e930",
   "metadata": {},
   "source": [
    "Question(5) What is the value of spam[:2]?"
   ]
  },
  {
   "cell_type": "code",
   "execution_count": 8,
   "id": "db46d653",
   "metadata": {},
   "outputs": [
    {
     "data": {
      "text/plain": [
       "[2, 4]"
      ]
     },
     "execution_count": 8,
     "metadata": {},
     "output_type": "execute_result"
    }
   ],
   "source": [
    "spam[:2]"
   ]
  },
  {
   "cell_type": "markdown",
   "id": "5ef3db4e",
   "metadata": {},
   "source": [
    "Question(6) Let's pretend bacon has the list [3.14, 'cat,' 11, 'cat,' True] for the next three questions.\n",
    "What is the value of bacon.index('cat')?"
   ]
  },
  {
   "cell_type": "code",
   "execution_count": 11,
   "id": "0b2b05f0",
   "metadata": {},
   "outputs": [
    {
     "data": {
      "text/plain": [
       "1"
      ]
     },
     "execution_count": 11,
     "metadata": {},
     "output_type": "execute_result"
    }
   ],
   "source": [
    "bacon =  [3.14, 'cat', 11, 'cat', True]\n",
    "bacon.index('cat')"
   ]
  },
  {
   "cell_type": "markdown",
   "id": "7fccf1c4",
   "metadata": {},
   "source": [
    "Question(7) How does bacon.append(99) change the look of the list value in bacon?"
   ]
  },
  {
   "cell_type": "code",
   "execution_count": 12,
   "id": "c3e6383a",
   "metadata": {},
   "outputs": [
    {
     "data": {
      "text/plain": [
       "[3.14, 'cat', 11, 'cat', True, 99]"
      ]
     },
     "execution_count": 12,
     "metadata": {},
     "output_type": "execute_result"
    }
   ],
   "source": [
    "bacon.append(99)\n",
    "bacon"
   ]
  },
  {
   "cell_type": "markdown",
   "id": "6fed8d37",
   "metadata": {},
   "source": [
    "Question(8) How does bacon.remove('cat') change the look of the list in bacon?"
   ]
  },
  {
   "cell_type": "code",
   "execution_count": 13,
   "id": "009333e3",
   "metadata": {},
   "outputs": [
    {
     "data": {
      "text/plain": [
       "[3.14, 11, 'cat', True, 99]"
      ]
     },
     "execution_count": 13,
     "metadata": {},
     "output_type": "execute_result"
    }
   ],
   "source": [
    "bacon.remove('cat')\n",
    "bacon"
   ]
  },
  {
   "cell_type": "markdown",
   "id": "d5b075dd",
   "metadata": {},
   "source": [
    "Question(9) What are the list concatenation and list replication operators?"
   ]
  },
  {
   "cell_type": "raw",
   "id": "8ee9e9c6",
   "metadata": {},
   "source": [
    "concatenation: spam.append(list2) or directly using '+' operator\n",
    "replication: spam.copy() or directly using '*' operator"
   ]
  },
  {
   "cell_type": "markdown",
   "id": "e2b3b02d",
   "metadata": {},
   "source": [
    "Question(10) What is difference between the list methods append() and insert()?"
   ]
  },
  {
   "cell_type": "raw",
   "id": "4eb71a50",
   "metadata": {},
   "source": [
    "Append will only add element to last index(by defualt) but in insert you can insert an element at any index you want."
   ]
  },
  {
   "cell_type": "markdown",
   "id": "c27a2ff5",
   "metadata": {},
   "source": [
    "Question(11) What are the two methods for removing items from a list?"
   ]
  },
  {
   "cell_type": "raw",
   "id": "104852b5",
   "metadata": {},
   "source": [
    "pop, remove or del statement"
   ]
  },
  {
   "cell_type": "markdown",
   "id": "d8738c31",
   "metadata": {},
   "source": [
    "Question(12) Describe how list values and string values are identical"
   ]
  },
  {
   "cell_type": "raw",
   "id": "d97ed3f3",
   "metadata": {},
   "source": [
    "Both has same indexing method hence both has similiar slicing operations,can be passed to len(), have indexes and slices, be used in for loops, be concatenated or replicated, and be used with the in and not in operators and many more."
   ]
  },
  {
   "cell_type": "markdown",
   "id": "1a81e07d",
   "metadata": {},
   "source": [
    "Question(13) What's the difference between tuples and lists?"
   ]
  },
  {
   "cell_type": "raw",
   "id": "f8ba5819",
   "metadata": {},
   "source": [
    "string is sequence of characters enclosed with single or double quotes and are immutable(not changeable).\n",
    "list is a collection having items inside a square brackets seperated by commas and are mutable(changeable)."
   ]
  },
  {
   "cell_type": "markdown",
   "id": "de61ba29",
   "metadata": {},
   "source": [
    "Question(14) How do you type a tuple value that only contains the integer 42?"
   ]
  },
  {
   "cell_type": "code",
   "execution_count": 16,
   "id": "f3983d91",
   "metadata": {},
   "outputs": [
    {
     "data": {
      "text/plain": [
       "tuple"
      ]
     },
     "execution_count": 16,
     "metadata": {},
     "output_type": "execute_result"
    }
   ],
   "source": [
    "t = (42,)\n",
    "type(t)"
   ]
  },
  {
   "cell_type": "markdown",
   "id": "7f9a39c1",
   "metadata": {},
   "source": [
    "Question(15) How do you get a list value's tuple form? How do you get a tuple value's list form?"
   ]
  },
  {
   "cell_type": "raw",
   "id": "e25eb214",
   "metadata": {},
   "source": [
    "tuple(list) and list(tuple)"
   ]
  },
  {
   "cell_type": "markdown",
   "id": "468ea263",
   "metadata": {},
   "source": [
    "Question(16) Variables that \"contain\" list values are not necessarily lists themselves. Instead, what do they contain?"
   ]
  },
  {
   "cell_type": "raw",
   "id": "19be8f55",
   "metadata": {},
   "source": [
    "They contains just a references to list values. nothing much."
   ]
  },
  {
   "cell_type": "markdown",
   "id": "60b073e8",
   "metadata": {},
   "source": [
    "Question(17) How do you distinguish between copy.copy() and copy.deepcopy()?"
   ]
  },
  {
   "cell_type": "raw",
   "id": "fdccad0d",
   "metadata": {},
   "source": [
    "copy() is a shallow copy of an object which takes the same memory allocation as the original object in which changes in the copied object will reflect in original object too.\n",
    "But deepcopy() allocates a different memory location to the copied object which is independent of original one."
   ]
  },
  {
   "cell_type": "code",
   "execution_count": null,
   "id": "d61d1669",
   "metadata": {},
   "outputs": [],
   "source": []
  }
 ],
 "metadata": {
  "kernelspec": {
   "display_name": "Python 3 (ipykernel)",
   "language": "python",
   "name": "python3"
  },
  "language_info": {
   "codemirror_mode": {
    "name": "ipython",
    "version": 3
   },
   "file_extension": ".py",
   "mimetype": "text/x-python",
   "name": "python",
   "nbconvert_exporter": "python",
   "pygments_lexer": "ipython3",
   "version": "3.9.7"
  }
 },
 "nbformat": 4,
 "nbformat_minor": 5
}
