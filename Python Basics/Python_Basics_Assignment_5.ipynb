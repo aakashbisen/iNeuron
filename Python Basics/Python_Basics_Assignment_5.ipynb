{
 "cells": [
  {
   "cell_type": "markdown",
   "id": "507ec466",
   "metadata": {},
   "source": [
    "1. What does an empty dictionary's code look like?"
   ]
  },
  {
   "cell_type": "raw",
   "id": "aecc6a50",
   "metadata": {},
   "source": [
    "like a set {}"
   ]
  },
  {
   "cell_type": "markdown",
   "id": "344f9bd7",
   "metadata": {},
   "source": [
    "2.What is the value of a dictionary value with the key 'foo' and the value 42?"
   ]
  },
  {
   "cell_type": "code",
   "execution_count": 4,
   "id": "75976c74",
   "metadata": {},
   "outputs": [
    {
     "data": {
      "text/plain": [
       "dict_values([42])"
      ]
     },
     "execution_count": 4,
     "metadata": {},
     "output_type": "execute_result"
    }
   ],
   "source": [
    "d={'foo':42}\n",
    "d.values()"
   ]
  },
  {
   "cell_type": "markdown",
   "id": "f1db7f4d",
   "metadata": {},
   "source": [
    "3. What is the most significant distinction between a dictionary and a list?"
   ]
  },
  {
   "cell_type": "raw",
   "id": "75a45ce5",
   "metadata": {},
   "source": [
    "list stores value in a squared bracket with values being seperated by commas in an ordered manner whereas dictionary stores values in the form of key and pair inside a curly brackets in an unordered manner."
   ]
  },
  {
   "cell_type": "markdown",
   "id": "5ccb5f20",
   "metadata": {},
   "source": [
    "4.What happens if you try to access spam['foo'] if spam is {'bar': 100}?"
   ]
  },
  {
   "cell_type": "raw",
   "id": "d336df44",
   "metadata": {},
   "source": [
    "spam = {'bar': 100}\n",
    "spam['foo'] gives 'KeyError'"
   ]
  },
  {
   "cell_type": "markdown",
   "id": "ad1a4ff3",
   "metadata": {},
   "source": [
    "5.If a dictionary is stored in spam, what is the difference between the expressions 'cat' in spam and 'cat' in spam.keys()?"
   ]
  },
  {
   "cell_type": "raw",
   "id": "cefa9c63",
   "metadata": {},
   "source": [
    "'cat' in spam checks whether there is a 'cat' key in the dictionary, while 'cat' in spam.values() checks whether there is a value 'cat' for one of the values in spam."
   ]
  },
  {
   "cell_type": "markdown",
   "id": "e7de2bc7",
   "metadata": {},
   "source": [
    "6.Above question is Repeated."
   ]
  },
  {
   "cell_type": "markdown",
   "id": "45507c5e",
   "metadata": {},
   "source": [
    "7.What is a shortcut for the following code?\n",
    "if 'color' not in spam:\n",
    "spam['color'] = 'black'"
   ]
  },
  {
   "cell_type": "raw",
   "id": "b96c2343",
   "metadata": {},
   "source": [
    "spam.setdefault('color', 'black')"
   ]
  },
  {
   "cell_type": "markdown",
   "id": "49d2e77e",
   "metadata": {},
   "source": [
    "8.How do you \"pretty print\" dictionary values using which module and function?"
   ]
  },
  {
   "cell_type": "raw",
   "id": "0e72f152",
   "metadata": {},
   "source": [
    "pprint.pprint()"
   ]
  },
  {
   "cell_type": "code",
   "execution_count": null,
   "id": "071bc92b",
   "metadata": {},
   "outputs": [],
   "source": []
  }
 ],
 "metadata": {
  "kernelspec": {
   "display_name": "Python 3 (ipykernel)",
   "language": "python",
   "name": "python3"
  },
  "language_info": {
   "codemirror_mode": {
    "name": "ipython",
    "version": 3
   },
   "file_extension": ".py",
   "mimetype": "text/x-python",
   "name": "python",
   "nbconvert_exporter": "python",
   "pygments_lexer": "ipython3",
   "version": "3.9.7"
  }
 },
 "nbformat": 4,
 "nbformat_minor": 5
}
