{
 "cells": [
  {
   "cell_type": "markdown",
   "id": "433c31d2",
   "metadata": {},
   "source": [
    "1.What are escape characters, and how do you use them?"
   ]
  },
  {
   "cell_type": "raw",
   "id": "f32a7499",
   "metadata": {},
   "source": [
    "To insert characters that are illegal in a string, we use an escape character. Some example of mostly used escape characters are below:\n",
    "1.carriage return(\\r)    :- It replaces the initial characters with whatever comes after '\\r' in one-by-one manner.\n",
    "2.new line character(\\n) :- It simply creates a new line.\n",
    "3.single quote(\\\")           :- It inserts an character in a string \\\" followed by the character you want to insert."
   ]
  },
  {
   "cell_type": "markdown",
   "id": "c357ba29",
   "metadata": {},
   "source": [
    "2.What do the escape characters n and t stand for?"
   ]
  },
  {
   "cell_type": "raw",
   "id": "0f56995a",
   "metadata": {},
   "source": [
    "n:new line\n",
    "t:tab"
   ]
  },
  {
   "cell_type": "markdown",
   "id": "26c3868b",
   "metadata": {},
   "source": [
    "3.What is the way to include backslash characters in a string?"
   ]
  },
  {
   "cell_type": "raw",
   "id": "42255e7f",
   "metadata": {},
   "source": [
    "The \\\\ escape character will represent a backslash character."
   ]
  },
  {
   "cell_type": "markdown",
   "id": "20ede23f",
   "metadata": {},
   "source": [
    "4.The string \"Howl's Moving Castle\" is a correct value. Why isn't the single quote character in the word Howl's not escaped a problem?"
   ]
  },
  {
   "cell_type": "raw",
   "id": "27e4a3ed",
   "metadata": {},
   "source": [
    "It is possible because the double quotes are being used in the outer side. If you use double quote in howl\"s also it will give an error."
   ]
  },
  {
   "cell_type": "markdown",
   "id": "ab14940f",
   "metadata": {},
   "source": [
    "5.How do you write a string of newlines if you don't want to use the n character?"
   ]
  },
  {
   "cell_type": "raw",
   "id": "939a14e8",
   "metadata": {},
   "source": [
    "by using docstring(triple quotes)"
   ]
  },
  {
   "cell_type": "markdown",
   "id": "ba824acd",
   "metadata": {},
   "source": [
    "6.What are the values of the given expressions?"
   ]
  },
  {
   "cell_type": "raw",
   "id": "9f1e1b7d",
   "metadata": {},
   "source": [
    "'Hello, world!'[1] = 'e'\n",
    "'Hello, world!'[0:5] = 'Hello'\n",
    "'Hello, world!'[:5] = 'Hello'\n",
    "'Hello, world!'[3:] = ''lo, world!''"
   ]
  },
  {
   "cell_type": "markdown",
   "id": "a3dfce84",
   "metadata": {},
   "source": [
    "7.What are the values of the following expressions?"
   ]
  },
  {
   "cell_type": "raw",
   "id": "1d11ea3d",
   "metadata": {},
   "source": [
    "'Hello'.upper() = 'HELLO'\n",
    "'Hello'.upper().isupper() = True\n",
    "'Hello'.upper().lower() = 'hello'"
   ]
  },
  {
   "cell_type": "markdown",
   "id": "25078056",
   "metadata": {},
   "source": [
    "8.What are the values of the following expressions?"
   ]
  },
  {
   "cell_type": "raw",
   "id": "cc9a6e6e",
   "metadata": {},
   "source": [
    "'Remember, remember, the fifth of July.'.split() = ['Remember,', 'remember,', 'the', 'fifth', 'of', 'July.']\n",
    "'-'.join('There can only one.'.split()) = 'There-can-only-one.'"
   ]
  },
  {
   "cell_type": "markdown",
   "id": "914e7db7",
   "metadata": {},
   "source": [
    "9.What are the methods for right-justifying, left-justifying, and centering a string?"
   ]
  },
  {
   "cell_type": "raw",
   "id": "5e33090b",
   "metadata": {},
   "source": [
    " rjust(), ljust(), and center()"
   ]
  },
  {
   "cell_type": "markdown",
   "id": "98590c88",
   "metadata": {},
   "source": [
    "10.What is the best way to remove whitespace characters from the start or end?"
   ]
  },
  {
   "cell_type": "raw",
   "id": "bbcfa1f2",
   "metadata": {},
   "source": [
    "rstrp() and lstrip()"
   ]
  },
  {
   "cell_type": "code",
   "execution_count": null,
   "id": "468eeb2e",
   "metadata": {},
   "outputs": [],
   "source": []
  }
 ],
 "metadata": {
  "kernelspec": {
   "display_name": "Python 3 (ipykernel)",
   "language": "python",
   "name": "python3"
  },
  "language_info": {
   "codemirror_mode": {
    "name": "ipython",
    "version": 3
   },
   "file_extension": ".py",
   "mimetype": "text/x-python",
   "name": "python",
   "nbconvert_exporter": "python",
   "pygments_lexer": "ipython3",
   "version": "3.9.7"
  }
 },
 "nbformat": 4,
 "nbformat_minor": 5
}
