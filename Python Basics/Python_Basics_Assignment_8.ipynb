{
 "cells": [
  {
   "cell_type": "markdown",
   "id": "56cfa808",
   "metadata": {},
   "source": [
    "1. Is the Python Standard Library included with PyInputPlus?"
   ]
  },
  {
   "cell_type": "raw",
   "id": "d1753591",
   "metadata": {},
   "source": [
    "PyInputPlus is not a part of the Python Standard Library, so you must install it separately using Pip."
   ]
  },
  {
   "cell_type": "markdown",
   "id": "1e072468",
   "metadata": {},
   "source": [
    "2. Why is PyInputPlus commonly imported with import pyinputplus as pypi?"
   ]
  },
  {
   "cell_type": "raw",
   "id": "6ad9d183",
   "metadata": {},
   "source": [
    "pypi is just a alias we have used. Its not a special keyword. You can use any name instead of this."
   ]
  },
  {
   "cell_type": "markdown",
   "id": "02fdf6b1",
   "metadata": {},
   "source": [
    "3. How do you distinguish between inputInt() and inputFloat()?"
   ]
  },
  {
   "cell_type": "raw",
   "id": "356cd818",
   "metadata": {},
   "source": [
    "The inputInt() function returns an integer, while the inputFloat() function returns a float"
   ]
  },
  {
   "cell_type": "markdown",
   "id": "c2de633c",
   "metadata": {},
   "source": [
    "4. Using PyInputPlus, how do you ensure that the user enters a whole number between 0 and 99?"
   ]
  },
  {
   "cell_type": "raw",
   "id": "e3f066e4",
   "metadata": {},
   "source": [
    "PyInputPlus will keep asking the user for text until they enter valid input."
   ]
  },
  {
   "cell_type": "markdown",
   "id": "b46dd77d",
   "metadata": {},
   "source": [
    "5. What is transferred to the keyword arguments allowRegexes and blockRegexes?"
   ]
  },
  {
   "cell_type": "raw",
   "id": "48e8eccc",
   "metadata": {},
   "source": [
    "The allowRegexes and blockRegexes keyword arguments take a list of regular expression strings to determine what the PyInputPlus function will accept or reject as valid input"
   ]
  },
  {
   "cell_type": "markdown",
   "id": "0bd297f6",
   "metadata": {},
   "source": [
    "7.If blank input is entered three times, what does inputStr(limit=3, default='hello') do?"
   ]
  },
  {
   "cell_type": "raw",
   "id": "9892813f",
   "metadata": {},
   "source": [
    "It returns the value N/A to the variable "
   ]
  },
  {
   "cell_type": "code",
   "execution_count": null,
   "id": "e2d338a7",
   "metadata": {},
   "outputs": [],
   "source": []
  }
 ],
 "metadata": {
  "kernelspec": {
   "display_name": "Python 3 (ipykernel)",
   "language": "python",
   "name": "python3"
  },
  "language_info": {
   "codemirror_mode": {
    "name": "ipython",
    "version": 3
   },
   "file_extension": ".py",
   "mimetype": "text/x-python",
   "name": "python",
   "nbconvert_exporter": "python",
   "pygments_lexer": "ipython3",
   "version": "3.9.7"
  }
 },
 "nbformat": 4,
 "nbformat_minor": 5
}
