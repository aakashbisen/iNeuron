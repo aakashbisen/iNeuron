{
 "cells": [
  {
   "cell_type": "markdown",
   "id": "9f7f5452",
   "metadata": {},
   "source": [
    "1. To what does a relative path refer?"
   ]
  },
  {
   "cell_type": "raw",
   "id": "b2ea7859",
   "metadata": {},
   "source": [
    "Relative paths are relative to the current working directory.\n",
    "absolute path + cwd = relative path\n",
    "Example:\n",
    "If my Absolute path is: C:/users/admin/docs/stuff.txt\n",
    "If my PWD is C:/users/admin/, then the relative path to stuff.txt would be: docs/stuff.txt"
   ]
  },
  {
   "cell_type": "markdown",
   "id": "ab7d00d6",
   "metadata": {},
   "source": [
    "2. What does an absolute path start with your operating system?"
   ]
  },
  {
   "cell_type": "raw",
   "id": "9d85e8dc",
   "metadata": {},
   "source": [
    "C:/"
   ]
  },
  {
   "cell_type": "markdown",
   "id": "11c7d16d",
   "metadata": {},
   "source": [
    "3. What do the functions os.getcwd() and os.chdir() do?"
   ]
  },
  {
   "cell_type": "raw",
   "id": "dacdd11a",
   "metadata": {},
   "source": [
    "os.getcwd() returns your current working directory and os.chdir('new cwd path') is used to change your cwd"
   ]
  },
  {
   "cell_type": "markdown",
   "id": "935c64a1",
   "metadata": {},
   "source": [
    "4. What are the . and .. folders?"
   ]
  },
  {
   "cell_type": "raw",
   "id": "4f73d92e",
   "metadata": {},
   "source": [
    ". means current folder and .. means its parent folder."
   ]
  },
  {
   "cell_type": "markdown",
   "id": "bf8eda33",
   "metadata": {},
   "source": [
    "5. In C:\\bacon\\eggs\\spam.txt, which part is the dir name, and which part is the base name?"
   ]
  },
  {
   "cell_type": "raw",
   "id": "dd3b99ee",
   "metadata": {},
   "source": [
    "C:\\bacon\\eggs is the dir name and spam.txt is the base name"
   ]
  },
  {
   "cell_type": "markdown",
   "id": "f74760ef",
   "metadata": {},
   "source": [
    "6. What are the three “mode” arguments that can be passed to the open() function?"
   ]
  },
  {
   "cell_type": "raw",
   "id": "0e2ac679",
   "metadata": {},
   "source": [
    "The string 'r' for read mode, 'w' for write mode, and 'a' for append mode"
   ]
  },
  {
   "cell_type": "markdown",
   "id": "69940713",
   "metadata": {},
   "source": [
    "7. What happens if an existing file is opened in write mode?"
   ]
  },
  {
   "cell_type": "raw",
   "id": "05293c8a",
   "metadata": {},
   "source": [
    "An existing file opened in write mode is erased and completely overwritten."
   ]
  },
  {
   "cell_type": "markdown",
   "id": "3a458287",
   "metadata": {},
   "source": [
    "8. How do you tell the difference between read() and readlines()?"
   ]
  },
  {
   "cell_type": "raw",
   "id": "5809ad3a",
   "metadata": {},
   "source": [
    "The read() method returns the file’s entire contents as a single string value. The readlines() method returns a list of strings, where each string is a line from the file’s contents "
   ]
  },
  {
   "cell_type": "markdown",
   "id": "ee0afc69",
   "metadata": {},
   "source": [
    "9. What data structure does a shelf value resemble?"
   ]
  },
  {
   "cell_type": "raw",
   "id": "18c8f504",
   "metadata": {},
   "source": [
    "A shelf value resembles a dictionary value; it has keys and values, along with keys() and values() methods that work similarly to the dictionary methods of the same names."
   ]
  },
  {
   "cell_type": "code",
   "execution_count": null,
   "id": "71f21eac",
   "metadata": {},
   "outputs": [],
   "source": []
  }
 ],
 "metadata": {
  "kernelspec": {
   "display_name": "Python 3 (ipykernel)",
   "language": "python",
   "name": "python3"
  },
  "language_info": {
   "codemirror_mode": {
    "name": "ipython",
    "version": 3
   },
   "file_extension": ".py",
   "mimetype": "text/x-python",
   "name": "python",
   "nbconvert_exporter": "python",
   "pygments_lexer": "ipython3",
   "version": "3.9.7"
  }
 },
 "nbformat": 4,
 "nbformat_minor": 5
}
